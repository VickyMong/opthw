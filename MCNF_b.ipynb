{
 "cells": [
  {
   "cell_type": "code",
   "execution_count": 1,
   "id": "ba4a6551",
   "metadata": {},
   "outputs": [],
   "source": [
    "from coptpy import *"
   ]
  },
  {
   "cell_type": "code",
   "execution_count": 2,
   "id": "9bf4351d",
   "metadata": {},
   "outputs": [],
   "source": [
    "Nodes=['F','C','B','C1','C2','C3','C4']"
   ]
  },
  {
   "cell_type": "code",
   "execution_count": 3,
   "id": "dfbb9e15",
   "metadata": {},
   "outputs": [],
   "source": [
    "Arcs,capacity,weight,profit = multidict({\n",
    "    ('S','F'):[0,12,0],\n",
    "    ('S','C'):[0,18,0],\n",
    "    ('S','B'):[0,10,0],\n",
    "    ('F','C1'):[-500,COPT.INFINITY,0],\n",
    "    ('F','C2'):[-700,COPT.INFINITY,0],\n",
    "    ('F','C3'):[-600,COPT.INFINITY,0],\n",
    "    ('F','C4'):[-400,COPT.INFINITY,0],\n",
    "    ('B','C1'):[-500,COPT.INFINITY,0],\n",
    "    ('B','C2'):[-700,COPT.INFINITY,0],\n",
    "    ('B','C3'):[-600,COPT.INFINITY,0],\n",
    "    ('B','C4'):[-400,COPT.INFINITY,0],\n",
    "    ('C','C1'):[-500,COPT.INFINITY,0],\n",
    "    ('C','C2'):[-700,COPT.INFINITY,0],\n",
    "    ('C','C3'):[-600,COPT.INFINITY,0],\n",
    "    ('C','C4'):[-400,COPT.INFINITY,0],\n",
    "    ('C1','T'):[0,20,320],\n",
    "    ('C2','T'):[0,16,400],\n",
    "    ('C3','T'):[0,25,360],\n",
    "    ('C4','T'):[0,13,290],\n",
    "    ('S','T'):[0,COPT.INFINITY,0]})"
   ]
  },
  {
   "cell_type": "code",
   "execution_count": 4,
   "id": "d61c82dd",
   "metadata": {},
   "outputs": [
    {
     "name": "stdout",
     "output_type": "stream",
     "text": [
      "Cardinal Optimizer v5.0.4. Build date Aug 19 2022\n",
      "Copyright Cardinal Operations 2022. All Rights Reserved\n",
      "\n"
     ]
    }
   ],
   "source": [
    "# Create environment\n",
    "env = Envr()\n",
    "# Create model \n",
    "model = env.createModel(name=\"MCNF_b\")"
   ]
  },
  {
   "cell_type": "code",
   "execution_count": 5,
   "id": "32bcb906",
   "metadata": {},
   "outputs": [
    {
     "data": {
      "text/plain": [
       "<coptpy.Constraint: >"
      ]
     },
     "execution_count": 5,
     "metadata": {},
     "output_type": "execute_result"
    }
   ],
   "source": [
    "#Add variables\n",
    "transport = model.addVars(Arcs,ub=weight)\n",
    "#Add Origins constraints:\n",
    "model.addConstr(transport.sum('S',\"*\") == 40)\n",
    "#Add Destinations constraints:\n",
    "model.addConstr(-transport.sum(\"*\",'T') == -40)\n",
    "#Add constraints:其余Nodes的约束，流入=流出\n",
    "for n in Nodes:\n",
    "    model.addConstr(transport.sum(n,\"*\") == transport.sum(\"*\",n))\n",
    "#Add constraints:飞机容量和重量约束\n",
    "model.addConstr(transport.prod(capacity,'F',\"*\") + 7000 >= 0)\n",
    "model.addConstr(transport.prod(capacity,'C',\"*\") + 9000 >= 0)\n",
    "model.addConstr(transport.prod(capacity,'B',\"*\") + 5000 >= 0)\n",
    "model.addConstr(transport.sum('F',\"*\")/12 == transport.sum('C',\"*\")/18 == transport.sum('B',\"*\")/10)"
   ]
  },
  {
   "cell_type": "code",
   "execution_count": 8,
   "id": "f9ce2c98",
   "metadata": {},
   "outputs": [],
   "source": [
    "#Set Objective\n",
    "model.setObjective(transport.prod(profit), sense=COPT.MAXIMIZE)"
   ]
  },
  {
   "cell_type": "code",
   "execution_count": 9,
   "id": "2c2b3df8",
   "metadata": {},
   "outputs": [
    {
     "name": "stdout",
     "output_type": "stream",
     "text": [
      "Model fingerprint: b6b20211\n",
      "\n",
      "Hardware has 8 cores and 16 threads. Using instruction set X86_NATIVE (1)\n",
      "Maximizing an LP problem\n",
      "\n",
      "The original problem has:\n",
      "    13 rows, 20 columns and 60 non-zero elements\n",
      "The presolved problem has:\n",
      "    12 rows, 19 columns and 58 non-zero elements\n",
      "\n",
      "Starting the simplex solver using up to 8 threads\n",
      "\n",
      "Method   Iteration           Objective  Primal.NInf   Dual.NInf        Time\n",
      "Dual             0    2.5570071177e+04            5           0       0.00s\n",
      "Dual            15    1.3330047694e+04            0           0       0.00s\n",
      "Postsolving\n",
      "Dual            15    1.3330000000e+04            0           0       0.00s\n",
      "\n",
      "Solving finished\n",
      "Status: Optimal  Objective: 1.3330000000e+04  Iterations: 15  Time: 0.00s\n"
     ]
    }
   ],
   "source": [
    "#solve the problem\n",
    "model.solve()"
   ]
  },
  {
   "cell_type": "code",
   "execution_count": 10,
   "id": "e4a3126f",
   "metadata": {},
   "outputs": [
    {
     "name": "stdout",
     "output_type": "stream",
     "text": [
      "Optimal Value of objective:13330.0000\n",
      "\n",
      "Value of each variable:\n",
      "decision variableC(S,F),optimal solution is 12.0000\n",
      "decision variableC(S,C),optimal solution is 18.0000\n",
      "decision variableC(S,B),optimal solution is 10.0000\n",
      "decision variableC(F,C1),optimal solution is 0.0000\n",
      "decision variableC(F,C2),optimal solution is 7.3333\n",
      "decision variableC(F,C3),optimal solution is 0.0000\n",
      "decision variableC(F,C4),optimal solution is 4.6667\n",
      "decision variableC(B,C1),optimal solution is 0.0000\n",
      "decision variableC(B,C2),optimal solution is 3.3333\n",
      "decision variableC(B,C3),optimal solution is 0.0000\n",
      "decision variableC(B,C4),optimal solution is 6.6667\n",
      "decision variableC(C,C1),optimal solution is 15.5000\n",
      "decision variableC(C,C2),optimal solution is 0.8333\n",
      "decision variableC(C,C3),optimal solution is 0.0000\n",
      "decision variableC(C,C4),optimal solution is 1.6667\n",
      "decision variableC(C1,T),optimal solution is 15.5000\n",
      "decision variableC(C2,T),optimal solution is 11.5000\n",
      "decision variableC(C3,T),optimal solution is 0.0000\n",
      "decision variableC(C4,T),optimal solution is 13.0000\n",
      "decision variableC(S,T),optimal solution is 0.0000\n"
     ]
    }
   ],
   "source": [
    "# Analyze solution\n",
    "if model.status == COPT.OPTIMAL:\n",
    "    # Optimal objective value\n",
    "    print(\"Optimal Value of objective:{:.4f}\".format(model.objval))\n",
    "    allvars = model.getVars()\n",
    "    #Variable value\n",
    "    print(\"\\nValue of each variable:\")\n",
    "    for var in allvars:\n",
    "        print(\"decision variable{0},optimal solution is {1:.4f}\".format(var.name, var.x))    "
   ]
  },
  {
   "attachments": {
    "image-2.png": {
     "image/png": "[encoded data removed]"
    }
   },
   "cell_type": "markdown",
   "id": "4a31c9c4",
   "metadata": {},
   "source": [
    "According to results, the optimal profit is 13330. Cargo 1 has 15.5 tons loaded in the center compartment.Cargo 2 has $\\frac{22}{3}$ tons loaded in the front compartment, $\\frac{5}{6}$ tons loaded in the center compartment and $\\frac{10}{3}$ tons loaded in the back compartment. Cargo 4 has $\\frac{14}{3}$ tons loaded in the front commpartment, $\\frac{5}{3}$ tons loaded in the center compartment and $\\frac{20}{3}$ tons loaded in the back compartment. None of cargo 3 should be loaded. The plan is shown in the table below:\n",
    "![image-2.png](attachment:image-2.png)"
   ]
  }
 ],
 "metadata": {
  "kernelspec": {
   "display_name": "Python 3 (ipykernel)",
   "language": "python",
   "name": "python3"
  },
  "language_info": {
   "codemirror_mode": {
    "name": "ipython",
    "version": 3
   },
   "file_extension": ".py",
   "mimetype": "text/x-python",
   "name": "python",
   "nbconvert_exporter": "python",
   "pygments_lexer": "ipython3",
   "version": "3.9.12"
  }
 },
 "nbformat": 4,
 "nbformat_minor": 5
}
