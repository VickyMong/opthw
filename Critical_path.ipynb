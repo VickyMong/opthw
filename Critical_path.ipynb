{
 "cells": [
  {
   "cell_type": "code",
   "execution_count": 1,
   "id": "9118c9c0",
   "metadata": {},
   "outputs": [],
   "source": [
    "from coptpy import *"
   ]
  },
  {
   "cell_type": "code",
   "execution_count": 2,
   "id": "cf7a712d",
   "metadata": {
    "scrolled": false
   },
   "outputs": [
    {
     "name": "stdout",
     "output_type": "stream",
     "text": [
      "Cardinal Optimizer v5.0.4. Build date Aug 19 2022\n",
      "Copyright Cardinal Operations 2022. All Rights Reserved\n",
      "\n"
     ]
    }
   ],
   "source": [
    "#Create environment\n",
    "env = Envr()\n",
    "# Create model \n",
    "model = env.createModel(name=\"Critical_path\")"
   ]
  },
  {
   "cell_type": "code",
   "execution_count": 3,
   "id": "03b2d680",
   "metadata": {},
   "outputs": [],
   "source": [
    "Nodes=['1','2','3','4','5','6','7','8','9','10','11']"
   ]
  },
  {
   "cell_type": "code",
   "execution_count": 4,
   "id": "f2e98156",
   "metadata": {},
   "outputs": [],
   "source": [
    "Arcs,time1 = multidict({\n",
    "    ('1','2'):2,\n",
    "    ('2','3'):3,\n",
    "    ('3','4'):5,\n",
    "    ('3','5'):7,\n",
    "    ('3','7'):3,\n",
    "    ('4','10'):8,\n",
    "    ('5','6'):4,\n",
    "    ('6','4'):0,\n",
    "    ('6','8'):0,\n",
    "    ('7','8'):2,\n",
    "    ('7','9'):6,\n",
    "    ('8','10'):6,\n",
    "    ('9','8'):0,\n",
    "    ('10','11'):9})"
   ]
  },
  {
   "cell_type": "code",
   "execution_count": 5,
   "id": "dd04d35a",
   "metadata": {},
   "outputs": [],
   "source": [
    "#Add variables\n",
    "Executive_time = model.addVars(Nodes)"
   ]
  },
  {
   "cell_type": "code",
   "execution_count": 6,
   "id": "2b591752",
   "metadata": {
    "scrolled": true
   },
   "outputs": [],
   "source": [
    "#Add constraints\n",
    "#del(time1)\n",
    "model.addConstr(Executive_time['1'] == 0)\n",
    "for (i,j) in Arcs:\n",
    "    model.addConstr(Executive_time[j] - Executive_time[i] >= time1[i,j])"
   ]
  },
  {
   "cell_type": "code",
   "execution_count": 7,
   "id": "e245b44e",
   "metadata": {},
   "outputs": [],
   "source": [
    "#Set Objective\n",
    "model.setObjective(Executive_time['11'], sense=COPT.MINIMIZE)"
   ]
  },
  {
   "cell_type": "code",
   "execution_count": 8,
   "id": "5ac647ab",
   "metadata": {},
   "outputs": [
    {
     "name": "stdout",
     "output_type": "stream",
     "text": [
      "Model fingerprint: 94bb4671\n",
      "\n",
      "Hardware has 8 cores and 16 threads. Using instruction set X86_NATIVE (1)\n",
      "Minimizing an LP problem\n",
      "\n",
      "The original problem has:\n",
      "    15 rows, 11 columns and 29 non-zero elements\n",
      "The presolved problem is empty\n",
      "\n",
      "Postsolving\n",
      "\n",
      "Method   Iteration           Objective  Primal.NInf   Dual.NInf        Time\n",
      "Dual             0    3.3000000000e+01            0           0       0.00s\n",
      "\n",
      "Solving finished\n",
      "Status: Optimal  Objective: 3.3000000000e+01  Iterations: 0  Time: 0.00s\n"
     ]
    }
   ],
   "source": [
    "#solve the problem\n",
    "model.solve()"
   ]
  },
  {
   "cell_type": "code",
   "execution_count": 9,
   "id": "cb115762",
   "metadata": {},
   "outputs": [
    {
     "name": "stdout",
     "output_type": "stream",
     "text": [
      "Optimal Value of objective:33.0000\n",
      "\n",
      "Value of each variable:\n",
      "decision variableC(1),optimal solution is 0.0000\n",
      "decision variableC(2),optimal solution is 2.0000\n",
      "decision variableC(3),optimal solution is 5.0000\n",
      "decision variableC(4),optimal solution is 16.0000\n",
      "decision variableC(5),optimal solution is 12.0000\n",
      "decision variableC(6),optimal solution is 16.0000\n",
      "decision variableC(7),optimal solution is 8.0000\n",
      "decision variableC(8),optimal solution is 16.0000\n",
      "decision variableC(9),optimal solution is 14.0000\n",
      "decision variableC(10),optimal solution is 24.0000\n",
      "decision variableC(11),optimal solution is 33.0000\n"
     ]
    }
   ],
   "source": [
    "# Analyze solution\n",
    "if model.status == COPT.OPTIMAL:\n",
    "    # Optimal objective value\n",
    "    print(\"Optimal Value of objective:{:.4f}\".format(model.objval))\n",
    "    allvars = model.getVars()\n",
    "    #Variable value\n",
    "    print(\"\\nValue of each variable:\")\n",
    "    for var in allvars:\n",
    "        print(\"decision variable{0},optimal solution is {1:.4f}\".format(var.name, var.x))    "
   ]
  }
 ],
 "metadata": {
  "kernelspec": {
   "display_name": "Python 3 (ipykernel)",
   "language": "python",
   "name": "python3"
  },
  "language_info": {
   "codemirror_mode": {
    "name": "ipython",
    "version": 3
   },
   "file_extension": ".py",
   "mimetype": "text/x-python",
   "name": "python",
   "nbconvert_exporter": "python",
   "pygments_lexer": "ipython3",
   "version": "3.9.12"
  }
 },
 "nbformat": 4,
 "nbformat_minor": 5
}
