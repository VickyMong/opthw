{
 "cells": [
  {
   "cell_type": "code",
   "execution_count": 1,
   "id": "976293c1",
   "metadata": {},
   "outputs": [],
   "source": [
    "from coptpy import *"
   ]
  },
  {
   "cell_type": "code",
   "execution_count": 2,
   "id": "2a4eb422",
   "metadata": {},
   "outputs": [
    {
     "name": "stdout",
     "output_type": "stream",
     "text": [
      "Cardinal Optimizer v5.0.4. Build date Aug 19 2022\n",
      "Copyright Cardinal Operations 2022. All Rights Reserved\n",
      "\n"
     ]
    }
   ],
   "source": [
    "# Create environment\n",
    "env = Envr()\n",
    "# Create model \n",
    "model = env.createModel(name=\"OLS_simple\")"
   ]
  },
  {
   "cell_type": "markdown",
   "id": "457cc608",
   "metadata": {},
   "source": [
    "Input five sets of sample data for solar cars"
   ]
  },
  {
   "cell_type": "code",
   "execution_count": 3,
   "id": "0b39b17a",
   "metadata": {},
   "outputs": [],
   "source": [
    "N, power, distance = multidict({\n",
    "    '1': [10, 60],\n",
    "    '2': [8, 55],\n",
    "    '3': [13, 75],\n",
    "    '4': [15, 81],\n",
    "    '5': [9, 62]})"
   ]
  },
  {
   "cell_type": "markdown",
   "id": "366628c4",
   "metadata": {},
   "source": [
    "**Decision variables**:<br/>\n",
    "**m**: the estimated coefficient in the linear relationship between power and distance;<br/>\n",
    "**b**: the estimated constant in a linear relationship;<br/>\n",
    "**OLS_positive_error($e_k^+$)**: positive estimation error for sample k, k∈N;<br/>\n",
    "**OLS_negative_error($e_k^-$)**: negative estimation error for sample k, k∈N"
   ]
  },
  {
   "cell_type": "code",
   "execution_count": 4,
   "id": "8c62e75d",
   "metadata": {},
   "outputs": [],
   "source": [
    "#Add variables\n",
    "OLS_positive_error = model.addVars(N)\n",
    "OLS_negative_error = model.addVars(N)\n",
    "m = model.addVar(name=\"m\")\n",
    "b = model.addVar(name=\"b\")"
   ]
  },
  {
   "cell_type": "markdown",
   "id": "ca2e692d",
   "metadata": {},
   "source": [
    "**Constrains:**\n",
    "$$e_k^+ - e_k^- = m \\times power_k + b - distance_k,\\quad k \\in N$$\n",
    "$$b, m, e_k^+, e_k^- \\geq 0,\\quad k \\in N$$"
   ]
  },
  {
   "cell_type": "code",
   "execution_count": 5,
   "id": "cda2960a",
   "metadata": {},
   "outputs": [],
   "source": [
    "#Add constraints\n",
    "for k in N:\n",
    "    model.addConstr(OLS_positive_error[k] - OLS_negative_error[k], COPT.EQUAL, power[k] * m + b - distance[k])"
   ]
  },
  {
   "cell_type": "markdown",
   "id": "4ad7c018",
   "metadata": {},
   "source": [
    "**Objective function**：$$\\min \\sum_{k=1}^N \\lvert distance_k -m \\times power_k + b \\rvert$$ can be transformed into $$\\min \\sum_{k=1}^N (e_k^+ + e_k^-)$$"
   ]
  },
  {
   "cell_type": "code",
   "execution_count": 8,
   "id": "1ccc5f0c",
   "metadata": {},
   "outputs": [],
   "source": [
    "#Set Objective\n",
    "model.setObjective(sum(OLS_positive_error[k]+OLS_negative_error[k] for k in N), sense=COPT.MINIMIZE)"
   ]
  },
  {
   "cell_type": "code",
   "execution_count": 9,
   "id": "27cf60c9",
   "metadata": {
    "scrolled": true
   },
   "outputs": [
    {
     "name": "stdout",
     "output_type": "stream",
     "text": [
      "Model fingerprint: 183940f0\n",
      "\n",
      "Hardware has 8 cores and 16 threads. Using instruction set X86_NATIVE (1)\n",
      "Minimizing an LP problem\n",
      "\n",
      "The original problem has:\n",
      "    5 rows, 12 columns and 20 non-zero elements\n",
      "The presolved problem has:\n",
      "    5 rows, 12 columns and 20 non-zero elements\n",
      "\n",
      "Starting the simplex solver using up to 8 threads\n",
      "\n",
      "Method   Iteration           Objective  Primal.NInf   Dual.NInf        Time\n",
      "Dual             0    0.0000000000e+00            5           0       0.01s\n",
      "Dual             5    7.1443478745e+00            0           0       0.01s\n",
      "Postsolving\n",
      "Dual             5    7.1428571429e+00            0           0       0.01s\n",
      "\n",
      "Solving finished\n",
      "Status: Optimal  Objective: 7.1428571429e+00  Iterations: 5  Time: 0.01s\n"
     ]
    }
   ],
   "source": [
    "#Solve the model\n",
    "model.solve()"
   ]
  },
  {
   "cell_type": "markdown",
   "id": "141bca5d",
   "metadata": {},
   "source": [
    "We have obtained the optimal solution"
   ]
  },
  {
   "cell_type": "code",
   "execution_count": 11,
   "id": "2fcd7d4e",
   "metadata": {
    "scrolled": true
   },
   "outputs": [
    {
     "name": "stdout",
     "output_type": "stream",
     "text": [
      "optimal value：7.1429\n",
      "\n",
      "Value of each variable:\n",
      "\n",
      "decision variable C(1), optimal solution is 2.4286\n",
      "decision variable C(2), optimal solution is 0.0000\n",
      "decision variable C(3), optimal solution is 0.0000\n",
      "decision variable C(4), optimal solution is 0.0000\n",
      "decision variable C(5), optimal solution is 0.0000\n",
      "decision variable C(1), optimal solution is 0.0000\n",
      "decision variable C(2), optimal solution is 0.0000\n",
      "decision variable C(3), optimal solution is 1.4286\n",
      "decision variable C(4), optimal solution is 0.0000\n",
      "decision variable C(5), optimal solution is 3.2857\n",
      "decision variable m, optimal solution is 3.7143\n",
      "decision variable b, optimal solution is 25.2857\n"
     ]
    }
   ],
   "source": [
    "#Analyze solution\n",
    "if model.status == COPT.OPTIMAL:\n",
    "    # Optimal objective value\n",
    "    print(\"optimal value：{:.4f}\".format(model.objval))\n",
    "    allvars = model.getVars()\n",
    "    #Variable value\n",
    "    print(\"\\nValue of each variable:\\n\")\n",
    "    for var in allvars:\n",
    "        print(\"decision variable {0}, optimal solution is {1:.4f}\".format(var.name, var.x))   "
   ]
  },
  {
   "cell_type": "markdown",
   "id": "70ed1506",
   "metadata": {},
   "source": [
    "**Results**:<br/>\n",
    "According to the results, the best-fit m and b are 3.7143 and 25.2587, respectively. The minimal sum of the absolute deviations between the observed distances and predicted distance is 7.1429."
   ]
  },
  {
   "cell_type": "code",
   "execution_count": null,
   "id": "366c58bb",
   "metadata": {},
   "outputs": [],
   "source": []
  }
 ],
 "metadata": {
  "kernelspec": {
   "display_name": "Python 3 (ipykernel)",
   "language": "python",
   "name": "python3"
  },
  "language_info": {
   "codemirror_mode": {
    "name": "ipython",
    "version": 3
   },
   "file_extension": ".py",
   "mimetype": "text/x-python",
   "name": "python",
   "nbconvert_exporter": "python",
   "pygments_lexer": "ipython3",
   "version": "3.9.12"
  }
 },
 "nbformat": 4,
 "nbformat_minor": 5
}
